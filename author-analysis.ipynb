{
 "cells": [
  {
   "cell_type": "markdown",
   "metadata": {},
   "source": [
    "## Exploring Gender Bias in Ratings"
   ]
  },
  {
   "cell_type": "markdown",
   "metadata": {},
   "source": [
    "The following section addresses the question of whether there is a relationship between gender and ratings. \n",
    "\n",
    "Due to the nature of the library used to perform the analysis, gender will be assumed to be a binary gender system (male and female). This does not reflect our beliefs about gender identity.\n",
    "\n",
    "The null hypothesis states that the difference in ratings between males and female authors is due to chance only. The alternative hypothesis states that the difference is due to some other factors and not chance alone. \n",
    "\n",
    "The library [gender-guesser](https://pypi.org/project/gender-guesser/) takes in first names as input and outputs 4 outcomes: `(1) unknown (name not found)`, `(2) andy (androgynous)`, `(3) male`, `(4) female`, `(5) mostly_male`, `(6) mostly_female`. \n",
    "\n",
    "`Andy` is assigned when the probability of being male is equal to the probability of being female. `Unknown` is assigned to names that weren't found in the database."
   ]
  },
  {
   "cell_type": "markdown",
   "metadata": {},
   "source": [
    "## Installation"
   ]
  },
  {
   "cell_type": "markdown",
   "metadata": {},
   "source": [
    "* In Jupyter notebook\n",
    "\n",
    "!pip install gender-guesser\n",
    "\n",
    "* In the terminal\n",
    "\n",
    "pip install gender-guesser"
   ]
  },
  {
   "cell_type": "code",
   "execution_count": 1,
   "metadata": {
    "collapsed": true
   },
   "outputs": [],
   "source": [
    "%matplotlib inline\n",
    "import warnings\n",
    "warnings.filterwarnings('ignore')\n",
    "import pandas as pd\n",
    "from scipy.stats import ttest_ind # statistics\n",
    "import gender_guesser.detector as gender # gender analysis\n",
    "\n",
    "import seaborn as sns\n",
    "import matplotlib.pyplot as plt\n",
    "plt.style.use('seaborn-pastel')"
   ]
  },
  {
   "cell_type": "code",
   "execution_count": 2,
   "metadata": {
    "collapsed": true
   },
   "outputs": [],
   "source": [
    "# create a dataframe from the authors json file. This file contains authors data that goes beying our book genre data\n",
    "authors = pd.read_json('../data/goodreads_book_authors.json', lines = True)"
   ]
  },
  {
   "cell_type": "markdown",
   "metadata": {},
   "source": [
    "Since we have some repeated authors in the dataset, we will group by name and take the average of the rating for each author to perform our analysis. The average will be stored in a new column named 'rating'."
   ]
  },
  {
   "cell_type": "code",
   "execution_count": 4,
   "metadata": {
    "collapsed": true
   },
   "outputs": [],
   "source": [
    "authors['rating'] = authors.groupby('name')['average_rating'].transform('mean')"
   ]
  },
  {
   "cell_type": "code",
   "execution_count": 5,
   "metadata": {},
   "outputs": [
    {
     "data": {
      "text/html": [
       "<div>\n",
       "<style scoped>\n",
       "    .dataframe tbody tr th:only-of-type {\n",
       "        vertical-align: middle;\n",
       "    }\n",
       "\n",
       "    .dataframe tbody tr th {\n",
       "        vertical-align: top;\n",
       "    }\n",
       "\n",
       "    .dataframe thead th {\n",
       "        text-align: right;\n",
       "    }\n",
       "</style>\n",
       "<table border=\"1\" class=\"dataframe\">\n",
       "  <thead>\n",
       "    <tr style=\"text-align: right;\">\n",
       "      <th></th>\n",
       "      <th>average_rating</th>\n",
       "      <th>author_id</th>\n",
       "      <th>text_reviews_count</th>\n",
       "      <th>name</th>\n",
       "      <th>ratings_count</th>\n",
       "      <th>rating</th>\n",
       "    </tr>\n",
       "  </thead>\n",
       "  <tbody>\n",
       "    <tr>\n",
       "      <th>0</th>\n",
       "      <td>3.98</td>\n",
       "      <td>604031</td>\n",
       "      <td>7</td>\n",
       "      <td>Ronald J. Fields</td>\n",
       "      <td>49</td>\n",
       "      <td>3.98</td>\n",
       "    </tr>\n",
       "    <tr>\n",
       "      <th>1</th>\n",
       "      <td>4.08</td>\n",
       "      <td>626222</td>\n",
       "      <td>28716</td>\n",
       "      <td>Anita Diamant</td>\n",
       "      <td>546796</td>\n",
       "      <td>4.08</td>\n",
       "    </tr>\n",
       "    <tr>\n",
       "      <th>2</th>\n",
       "      <td>3.92</td>\n",
       "      <td>10333</td>\n",
       "      <td>5075</td>\n",
       "      <td>Barbara Hambly</td>\n",
       "      <td>122118</td>\n",
       "      <td>3.92</td>\n",
       "    </tr>\n",
       "    <tr>\n",
       "      <th>3</th>\n",
       "      <td>3.68</td>\n",
       "      <td>9212</td>\n",
       "      <td>36262</td>\n",
       "      <td>Jennifer Weiner</td>\n",
       "      <td>888522</td>\n",
       "      <td>3.68</td>\n",
       "    </tr>\n",
       "    <tr>\n",
       "      <th>4</th>\n",
       "      <td>3.82</td>\n",
       "      <td>149918</td>\n",
       "      <td>96</td>\n",
       "      <td>Nigel Pennick</td>\n",
       "      <td>1740</td>\n",
       "      <td>3.82</td>\n",
       "    </tr>\n",
       "  </tbody>\n",
       "</table>\n",
       "</div>"
      ],
      "text/plain": [
       "   average_rating  author_id  text_reviews_count              name  \\\n",
       "0            3.98     604031                   7  Ronald J. Fields   \n",
       "1            4.08     626222               28716     Anita Diamant   \n",
       "2            3.92      10333                5075    Barbara Hambly   \n",
       "3            3.68       9212               36262   Jennifer Weiner   \n",
       "4            3.82     149918                  96     Nigel Pennick   \n",
       "\n",
       "   ratings_count  rating  \n",
       "0             49    3.98  \n",
       "1         546796    4.08  \n",
       "2         122118    3.92  \n",
       "3         888522    3.68  \n",
       "4           1740    3.82  "
      ]
     },
     "execution_count": 5,
     "metadata": {},
     "output_type": "execute_result"
    }
   ],
   "source": [
    "authors.head()"
   ]
  },
  {
   "cell_type": "code",
   "execution_count": 6,
   "metadata": {
    "collapsed": true
   },
   "outputs": [],
   "source": [
    "# get authors' first name\n",
    "first_names = authors['name'].str.split(' ',expand=True)[0]"
   ]
  },
  {
   "cell_type": "code",
   "execution_count": 7,
   "metadata": {
    "collapsed": true
   },
   "outputs": [],
   "source": [
    "# exact gender using gender-guesser\n",
    "d = gender.Detector(case_sensitive=False)\n",
    "#create list of genders from names\n",
    "genders = [d.get_gender(name) for name in first_names]"
   ]
  },
  {
   "cell_type": "code",
   "execution_count": 8,
   "metadata": {
    "collapsed": true
   },
   "outputs": [],
   "source": [
    "# create a pandas series for gender. We will convert mostly_female and mostly_male to female and male respectively\n",
    "genders = pd.Series([x.replace('mostly_female','female').replace('mostly_male','male') for x in genders])"
   ]
  },
  {
   "cell_type": "code",
   "execution_count": 9,
   "metadata": {},
   "outputs": [
    {
     "data": {
      "text/html": [
       "<div>\n",
       "<style scoped>\n",
       "    .dataframe tbody tr th:only-of-type {\n",
       "        vertical-align: middle;\n",
       "    }\n",
       "\n",
       "    .dataframe tbody tr th {\n",
       "        vertical-align: top;\n",
       "    }\n",
       "\n",
       "    .dataframe thead th {\n",
       "        text-align: right;\n",
       "    }\n",
       "</style>\n",
       "<table border=\"1\" class=\"dataframe\">\n",
       "  <thead>\n",
       "    <tr style=\"text-align: right;\">\n",
       "      <th></th>\n",
       "      <th>gender</th>\n",
       "      <th>count</th>\n",
       "      <th>percentage</th>\n",
       "    </tr>\n",
       "  </thead>\n",
       "  <tbody>\n",
       "    <tr>\n",
       "      <th>0</th>\n",
       "      <td>male</td>\n",
       "      <td>360745</td>\n",
       "      <td>43.487931</td>\n",
       "    </tr>\n",
       "    <tr>\n",
       "      <th>1</th>\n",
       "      <td>female</td>\n",
       "      <td>284892</td>\n",
       "      <td>34.343826</td>\n",
       "    </tr>\n",
       "    <tr>\n",
       "      <th>2</th>\n",
       "      <td>unknown</td>\n",
       "      <td>172032</td>\n",
       "      <td>20.738515</td>\n",
       "    </tr>\n",
       "    <tr>\n",
       "      <th>3</th>\n",
       "      <td>andy</td>\n",
       "      <td>11860</td>\n",
       "      <td>1.429727</td>\n",
       "    </tr>\n",
       "  </tbody>\n",
       "</table>\n",
       "</div>"
      ],
      "text/plain": [
       "    gender   count  percentage\n",
       "0     male  360745   43.487931\n",
       "1   female  284892   34.343826\n",
       "2  unknown  172032   20.738515\n",
       "3     andy   11860    1.429727"
      ]
     },
     "execution_count": 9,
     "metadata": {},
     "output_type": "execute_result"
    }
   ],
   "source": [
    "# calculate the percentage of males and females represented in the dataset\n",
    "\n",
    "gender_proportions = genders.value_counts().to_frame()\n",
    "gender_proportions.reset_index(inplace = True)\n",
    "\n",
    "gender_proportions.columns = ['gender', 'count']\n",
    "total = sum (gender_proportions['count'])\n",
    "\n",
    "gender_proportions['percentage'] = gender_proportions['count']/total*100\n",
    "\n",
    "gender_proportions"
   ]
  },
  {
   "cell_type": "code",
   "execution_count": 10,
   "metadata": {
    "collapsed": true
   },
   "outputs": [],
   "source": [
    "#create a column for gender in the authors dataframe\n",
    "authors['Gender'] = genders\n",
    "\n",
    "# create a rating array for males and females for plotting purposes\n",
    "male_scores = authors[authors['Gender'] == 'male']['rating'].values\n",
    "female_scores= authors[authors['Gender'] == 'female']['rating'].values"
   ]
  },
  {
   "cell_type": "markdown",
   "metadata": {},
   "source": [
    "## Plotting\n",
    "\n",
    "Now, we are ready to plot the distribution of ratings for male vs. female authors"
   ]
  },
  {
   "cell_type": "code",
   "execution_count": 18,
   "metadata": {},
   "outputs": [
    {
     "data": {
      "text/plain": [
       "['#a1c9f4',\n",
       " '#ffb482',\n",
       " '#8de5a1',\n",
       " '#ff9f9b',\n",
       " '#d0bbff',\n",
       " '#debb9b',\n",
       " '#fab0e4',\n",
       " '#cfcfcf',\n",
       " '#fffea3',\n",
       " '#b9f2f0']"
      ]
     },
     "execution_count": 18,
     "metadata": {},
     "output_type": "execute_result"
    }
   ],
   "source": [
    "pal = sns.color_palette('pastel')\n",
    "pal.as_hex()"
   ]
  },
  {
   "cell_type": "code",
   "execution_count": 19,
   "metadata": {},
   "outputs": [
    {
     "data": {
      "image/png": "[encoded data removed]",
      "text/plain": [
       "<Figure size 720x432 with 1 Axes>"
      ]
     },
     "metadata": {},
     "output_type": "display_data"
    }
   ],
   "source": [
    "# set the figure size\n",
    "plt.rcParams['figure.figsize'] = [10, 6]\n",
    "\n",
    "# Assign colors for gender\n",
    "colors = ['#82CDFF',  '#FFB482'] \n",
    "names = ['Male', 'Female']\n",
    "         \n",
    "# Make the histogram using a list of lists\n",
    "plt.hist([male_scores,female_scores], bins = int(180/15),\n",
    "         color = colors, label=names)\n",
    "\n",
    "# Plot formatting\n",
    "\n",
    "plt.legend()\n",
    "plt.xlabel('Average Rating')\n",
    "plt.ylabel('Frequency')\n",
    "plt.title('Side-by-side omparison of average ratings for male vs. female authors')\n",
    "plt.savefig('../visualizations/gender-ratings.svg', format='svg', dpi=1200)"
   ]
  },
  {
   "cell_type": "code",
   "execution_count": 5,
   "metadata": {},
   "outputs": [
    {
     "data": {
      "text/plain": [
       "Phil Noto                  22\n",
       "Marco Checchetto            9\n",
       "Ibrahim al-Koni             8\n",
       "Mark Brooks                 7\n",
       "                            5\n",
       "                           ..\n",
       "rD ywry                     1\n",
       "Andrew   Walsh              1\n",
       "Biruta Akerbergs Hansen     1\n",
       "Nguyen Huy Hai              1\n",
       "Charles Sawyer              1\n",
       "Name: name, Length: 825851, dtype: int64"
      ]
     },
     "execution_count": 5,
     "metadata": {},
     "output_type": "execute_result"
    }
   ],
   "source": [
    "# basic exploration of the dataset\n",
    "authors.shape\n",
    "authors['name'].value_counts()"
   ]
  },
  {
   "cell_type": "code",
   "execution_count": 54,
   "metadata": {},
   "outputs": [
    {
     "data": {
      "text/plain": [
       "['#66c2a5',\n",
       " '#fc8d62',\n",
       " '#8da0cb',\n",
       " '#e78ac3',\n",
       " '#a6d854',\n",
       " '#ffd92f',\n",
       " '#e5c494',\n",
       " '#b3b3b3']"
      ]
     },
     "execution_count": 54,
     "metadata": {},
     "output_type": "execute_result"
    }
   ],
   "source": [
    "pal = sns.color_palette(\"Set2\")\n",
    "pal.as_hex()"
   ]
  },
  {
   "cell_type": "code",
   "execution_count": 14,
   "metadata": {},
   "outputs": [
    {
     "data": {
      "image/png": "[encoded data removed]",
      "text/plain": [
       "<Figure size 720x360 with 2 Axes>"
      ]
     },
     "metadata": {},
     "output_type": "display_data"
    }
   ],
   "source": [
    "fig, axes = plt.subplots(2,1)\n",
    "\n",
    "axes[0].hist(male_scores, color='#f27d52', bins = 10, width = 0.3)\n",
    "axes[0].set_xlabel('Male Average Ratings')\n",
    "# Make the y-axis label, ticks and tick labels match the line color.\n",
    "axes[0].set_ylabel('male scores')\n",
    "\n",
    "axes[1].hist(female_scores, color='#2a89d1', bins = 10, width = 0.3)\n",
    "axes[1].set_ylabel('Female Average Ratings')\n",
    "\n",
    "fig.tight_layout()"
   ]
  },
  {
   "cell_type": "markdown",
   "metadata": {
    "collapsed": true
   },
   "source": [
    "## Making sense of the results\n",
    "\n",
    "In order to determine whether the difference in ratings between male and female authors is significant, we need to determine the type of statistical tool to use. Since we are looking at differences between 2 groups, a student t-test or Kolmogorov-Smirnov test stand out as possible choices.\n",
    "\n",
    "An independent student t-test works best with normally distributed data. The KS Test on the other hand,is a non-parametric and distribution-free test. It makes no assumption about the distribution of data.\n",
    "\n",
    "Let's examine the distributed of ratings:"
   ]
  },
  {
   "cell_type": "code",
   "execution_count": 42,
   "metadata": {},
   "outputs": [
    {
     "name": "stdout",
     "output_type": "stream",
     "text": [
      "Rejecting null hypothesis - data does not come from a normal distribution (p=0.0)\n"
     ]
    },
    {
     "data": {
      "image/png": "[encoded data removed]",
      "text/plain": [
       "<Figure size 792x432 with 1 Axes>"
      ]
     },
     "metadata": {},
     "output_type": "display_data"
    }
   ],
   "source": [
    "plt.hist(authors['rating'], bins = 10, width = 0.3)\n",
    "\n",
    "W, p_value = scipy.stats.shapiro(authors[\"rating\"])\n",
    "\n",
    "if p_value < 0.05:\n",
    "    print(\"Rejecting null hypothesis - data does not come from a normal distribution (p=%s)\"%p_value)\n",
    "else:\n",
    "    print(\"Cannot reject null hypothesis (p=%s)\"%p_value)"
   ]
  },
  {
   "cell_type": "markdown",
   "metadata": {},
   "source": [
    "It appears that our sample isn't normally distributed. Based on this finding, we will go ahead and use the KS test to examine the difference in the two groups(male authors vs. female authors)."
   ]
  },
  {
   "cell_type": "markdown",
   "metadata": {},
   "source": [
    "## Running Kolmogorov-Smirnov test"
   ]
  },
  {
   "cell_type": "code",
   "execution_count": 43,
   "metadata": {},
   "outputs": [
    {
     "data": {
      "text/plain": [
       "KstestResult(statistic=0.02653304279961255, pvalue=8.727076134911029e-98)"
      ]
     },
     "execution_count": 43,
     "metadata": {},
     "output_type": "execute_result"
    }
   ],
   "source": [
    "male_scores = authors[authors['Gender'] == 'male']['rating'].values\n",
    "female_scores = authors[authors['Gender'] == 'female']['rating'].values\n",
    "\n",
    "scipy.stats.ks_2samp(male_scores, female_scores)"
   ]
  },
  {
   "cell_type": "markdown",
   "metadata": {},
   "source": [
    "## Interpreting the results"
   ]
  },
  {
   "cell_type": "markdown",
   "metadata": {},
   "source": [
    "The null hypothesis of the KS test is that both groups were sampled from populations with identical distributions. It tests for any violation of that null hypothesis -- different medians, different variances, or different distributions. It answers the question of whether the two samples were randomly sampled from identical populations and if so what is the probability that the two cumulative frequency distributions would be as far apart as observed.  \n",
    "\n",
    "The D statistic represents the absolute max distance between the CDFs of the two samples. The closer this number is to 0 the more likely it is that the two samples were drawn from the same distribution.\n",
    "\n",
    "Given our much lower than 0 D statistic and extremely low p-value, we reject the null hypothesis that the two samples were drawn from the same distribution. It appears as though there is bias in rating for male vs. female authors, with male authors being given higher overall ratings."
   ]
  }
 ],
 "metadata": {
  "kernelspec": {
   "display_name": "Python [default]",
   "language": "python",
   "name": "python3"
  },
  "language_info": {
   "codemirror_mode": {
    "name": "ipython",
    "version": 3
   },
   "file_extension": ".py",
   "mimetype": "text/x-python",
   "name": "python",
   "nbconvert_exporter": "python",
   "pygments_lexer": "ipython3",
   "version": "3.6.3"
  }
 },
 "nbformat": 4,
 "nbformat_minor": 2
}
