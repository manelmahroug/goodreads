{
 "cells": [
  {
   "cell_type": "markdown",
   "metadata": {},
   "source": [
    "## Goal and motivation\n",
    "\n",
    "Online reviews have become a powerful source of influence in our buying decision process. Books are no exception. When trying to decide what to read next, our choices get swayed by other readers' experiences and perceptions. \n",
    "The goal of this analysis is to examine whether reviews of different genres have unique characteristics in the form of word choice, length of reviews, ratings and more."
   ]
  },
  {
   "cell_type": "markdown",
   "metadata": {},
   "source": [
    "## Data source\n",
    "\n",
    "The datasets were obtained from UCSD Book Graph project. They were collected from goodreads.com in late 2017, and updated in May 2019. The data reflect users' public shelves (everyone can see it on web without login). User IDs and review IDs have been anonymized. \n",
    "\n",
    "For the purposes of this project, we decided to use datasets from 3 different genres: children, history&biography, and mystery&thrillers. One important thing to note is that a book may belong to multiple genres. The genre of a book in this dataset was ultimately decided by how many votes it received from users.\n",
    "\n",
    "Citation:\n",
    "* Mengting Wan, Julian McAuley, \"Item Recommendation on Monotonic Behavior Chains\", in RecSys'18.[bibtex]\n",
    "* Mengting Wan, Rishabh Misra, Ndapa Nakashole, Julian McAuley, \"Fine-Grained Spoiler Detection from Large-Scale Review Corpora\", in ACL'19.[bibtex]\n"
   ]
  },
  {
   "cell_type": "markdown",
   "metadata": {},
   "source": [
    "## The analysis\n",
    "\n",
    "We divided our analysis into 3 parts, each guided by a set of questions: \n",
    "\n",
    "#### Reviews by genres:\n",
    "- Does one genre tend to receive higher ratings than other genres? What is the rating distribution of each genre? \n",
    "- Is there a relationship between the length of reviews and the rating given in different genres?\n",
    "- What are the words and themes associated with different review genres?\n",
    "\n",
    "#### Reviews by users:\n",
    "- Are there any 'likers' or 'haters' in our sample of book reviews? 'Likers' are those who tend to leave more positive reviews, whereas 'haters' tend to do the opposite. (Not sure we can answer this question with the data that we have)\n",
    "- Do ratings align well with polarity score for reviews for different users? (Not sure we can answer this with our data)\n",
    "\n",
    "\n",
    "#### Reviews by authors:\n",
    "\n",
    "- Is there any bias when it comes to the gender of the author? Using https://pypi.org/project/gender-guesser/, we can examine whether male authors are rated better than female authors or vice versa"
   ]
  },
  {
   "cell_type": "markdown",
   "metadata": {},
   "source": [
    "## Data preparation and Manipulation Steps\n",
    "### To run the notebook for analysis, please skip ahead to section: Reading the dataframe from csv file\n",
    "\n",
    "Given the size of the data, we ran into memory issues when attempting to read the files using pandas methods. \n",
    "\n",
    "To work around this issue, we will use pyspark dataframes to read the json files and extract samples from each genre. The sampling process will be done using `.sample()` method that takes 3 arguments: ``boolean withReplacement, fraction and a long seed.`` One important thing to note is that the fraction argument doesn't represent the fraction of the actual size of the dataframe but rather the probability of each element in the population getting selected for the sample. As a result the returned sample is not an exact percentage of the original dataframe.  \n",
    "\n",
    "\n",
    "\n",
    "1. Load and read our json files. One thing to note is that each json file is actually a collection of multiple json files(i.e each row is a json file). For this reason, we will make use of the optional parameter `lines` and set it to `True` so that each json is treated as a line in the file and not a file itself.\n",
    "\n",
    "2. Merge datasets that belong to the same genre together. Books meta-data and reviews will be merged on `book_id`.\n",
    "\n",
    "3. Add a genre column to each dataframe to identify it once all the files are merged into 1 dataframe.\n",
    "\n",
    "4. Take a sample of each dataframe.\n",
    "\n",
    "5. Concatenate all the dataframes.\n",
    "\n",
    "6. Convert the spark dataframe into a pandas dataframe.\n",
    "\n",
    "7. Remove unecessary columns.\n",
    "\n",
    "8. Only keep books that have a rating (unrated books have a rating of 0).\n"
   ]
  },
  {
   "cell_type": "code",
   "execution_count": 1,
   "metadata": {
    "collapsed": true,
    "jupyter": {
     "outputs_hidden": true
    }
   },
   "outputs": [],
   "source": [
    "#boilerplate code for running spark\n",
    "from pyspark.sql import SparkSession\n",
    "import pyspark.sql.functions as f\n",
    "from pyspark.sql.functions import lit\n",
    "from pyspark.sql.functions import udf\n",
    "from pyspark.sql.types import StringType\n",
    "from functools import reduce\n",
    "from pyspark.sql import DataFrame\n",
    "\n",
    "spark = SparkSession \\\n",
    "    .builder \\\n",
    "    .master(\"local[*]\") \\\n",
    "    .appName('Goodreads Spark Application') \\\n",
    "    .getOrCreate() \n",
    "\n",
    "sc = spark.sparkContext"
   ]
  },
  {
   "cell_type": "code",
   "execution_count": 20,
   "metadata": {
    "collapsed": true,
    "jupyter": {
     "outputs_hidden": true
    }
   },
   "outputs": [],
   "source": [
    "#display entire output of a cell\n",
    "from IPython.core.interactiveshell import InteractiveShell\n",
    "InteractiveShell.ast_node_interactivity = \"all\""
   ]
  },
  {
   "cell_type": "code",
   "execution_count": 21,
   "metadata": {
    "collapsed": true,
    "jupyter": {
     "outputs_hidden": true
    }
   },
   "outputs": [],
   "source": [
    "# load and parse the json files\n",
    "children_books = spark.read.json('../data/goodreads_books_children.json')\n",
    "children_reviews = spark.read.json('../data/goodreads_reviews_children.json')\n",
    "history_books = spark.read.json('../data/goodreads_books_history_biography.json')\n",
    "history_reviews = spark.read.json('../data/goodreads_reviews_history_biography.json')\n",
    "mystery_books = spark.read.json('../data/goodreads_books_mystery_thriller_crime.json')\n",
    "mystery_reviews = spark.read.json('../data/goodreads_reviews_mystery_thriller_crime.json')"
   ]
  },
  {
   "cell_type": "code",
   "execution_count": 22,
   "metadata": {},
   "outputs": [
    {
     "data": {
      "text/plain": [
       "124082"
      ]
     },
     "execution_count": 22,
     "metadata": {},
     "output_type": "execute_result"
    },
    {
     "name": "stdout",
     "output_type": "stream",
     "text": [
      "(124082, 29)\n"
     ]
    }
   ],
   "source": [
    "children_books.select(\"book_id\").distinct().count() # check that book id is unique, to check for duplicates\n",
    "print((children_books.count(), len(children_books.columns))) # check the size of the children books dataframe"
   ]
  },
  {
   "cell_type": "code",
   "execution_count": 23,
   "metadata": {},
   "outputs": [
    {
     "data": {
      "text/plain": [
       "734640"
      ]
     },
     "execution_count": 23,
     "metadata": {},
     "output_type": "execute_result"
    },
    {
     "name": "stdout",
     "output_type": "stream",
     "text": [
      "(734640, 11)\n"
     ]
    }
   ],
   "source": [
    "children_reviews.select(\"review_id\").distinct().count() # check that review id is unique, to check for duplicates\n",
    "print((children_reviews.count(), len(children_reviews.columns))) # check the size of the children reviews dataframe"
   ]
  },
  {
   "cell_type": "code",
   "execution_count": 24,
   "metadata": {},
   "outputs": [
    {
     "data": {
      "text/plain": [
       "302935"
      ]
     },
     "execution_count": 24,
     "metadata": {},
     "output_type": "execute_result"
    },
    {
     "name": "stdout",
     "output_type": "stream",
     "text": [
      "(302935, 29)\n"
     ]
    }
   ],
   "source": [
    "history_books.select(\"book_id\").distinct().count() # check that book id is unique, to check for duplicates\n",
    "print((history_books.count(), len(history_books.columns))) # check the size of the history books dataframe"
   ]
  },
  {
   "cell_type": "code",
   "execution_count": 25,
   "metadata": {},
   "outputs": [
    {
     "data": {
      "text/plain": [
       "2066193"
      ]
     },
     "execution_count": 25,
     "metadata": {},
     "output_type": "execute_result"
    },
    {
     "name": "stdout",
     "output_type": "stream",
     "text": [
      "(2066193, 11)\n"
     ]
    }
   ],
   "source": [
    "history_reviews.select(\"review_id\").distinct().count() # check that review id is unique, to check for duplicates\n",
    "print((history_reviews.count(), len(history_reviews.columns))) # check the size of the history reviews dataframe"
   ]
  },
  {
   "cell_type": "code",
   "execution_count": 26,
   "metadata": {},
   "outputs": [
    {
     "data": {
      "text/plain": [
       "219235"
      ]
     },
     "execution_count": 26,
     "metadata": {},
     "output_type": "execute_result"
    },
    {
     "name": "stdout",
     "output_type": "stream",
     "text": [
      "(219235, 29)\n"
     ]
    }
   ],
   "source": [
    "mystery_books.select(\"book_id\").distinct().count() # check that book id is unique, to check for duplicates\n",
    "print((mystery_books.count(), len(mystery_books.columns))) # check the size of the mystery books dataframe"
   ]
  },
  {
   "cell_type": "code",
   "execution_count": 27,
   "metadata": {},
   "outputs": [
    {
     "data": {
      "text/plain": [
       "1849236"
      ]
     },
     "execution_count": 27,
     "metadata": {},
     "output_type": "execute_result"
    },
    {
     "name": "stdout",
     "output_type": "stream",
     "text": [
      "(1849236, 11)\n"
     ]
    }
   ],
   "source": [
    "mystery_reviews.select(\"review_id\").distinct().count() # check that review id is unique, to check for dups\n",
    "print((mystery_reviews.count(), len(mystery_reviews.columns))) # check the size of the mystery reviews dataframe"
   ]
  },
  {
   "cell_type": "code",
   "execution_count": 28,
   "metadata": {
    "collapsed": true,
    "jupyter": {
     "outputs_hidden": true
    }
   },
   "outputs": [],
   "source": [
    "# drop unwanted columns in reviews\n",
    "columns_to_drop = ['date_added', 'date_updated','read_at','started_at']\n",
    "children_reviews = children_reviews.drop('date_added', 'date_updated','read_at','started_at')\n",
    "history_reviews = history_reviews.drop(*columns_to_drop)\n",
    "mystery_reviews= mystery_reviews.drop(*columns_to_drop)\n",
    "\n",
    "\n",
    "# drop unwanted columns in books\n",
    "drop_columns = ['description','format','image_url','is_ebook','asin','kindle_asin','link','popular_shelves','url']\n",
    "children_books = children_books.drop(*drop_columns)\n",
    "history_books = history_books.drop(*drop_columns)\n",
    "mystery_books = mystery_books.drop(*drop_columns)"
   ]
  },
  {
   "cell_type": "code",
   "execution_count": 29,
   "metadata": {
    "collapsed": true,
    "jupyter": {
     "outputs_hidden": true
    }
   },
   "outputs": [],
   "source": [
    "#join the dataframes of the same genres on book id, to have detailed information about a book\n",
    "\n",
    "merged_children =children_reviews.join(children_books, on =[\"book_id\"], how = \"inner\")\n",
    "merged_history = history_books.join(history_reviews, on = [\"book_id\"], how = 'inner')\n",
    "merged_mystery = mystery_books.join(mystery_reviews, on = [\"book_id\"], how = \"inner\")"
   ]
  },
  {
   "cell_type": "code",
   "execution_count": 30,
   "metadata": {
    "collapsed": true,
    "jupyter": {
     "outputs_hidden": true
    }
   },
   "outputs": [],
   "source": [
    "#create a genre column to identify each dataframe\n",
    "children = merged_children.withColumn('genre', lit('children'))\n",
    "history = merged_history.withColumn('genre',lit('history'))\n",
    "mystery = merged_mystery.withColumn('genre', lit('mystery'))"
   ]
  },
  {
   "cell_type": "code",
   "execution_count": 31,
   "metadata": {
    "collapsed": true,
    "jupyter": {
     "outputs_hidden": true
    }
   },
   "outputs": [],
   "source": [
    "#only keep books and reviews written in English\n",
    "children= children.filter(f.col('language_code')=='eng')\n",
    "history = history.filter(f.col('language_code')=='eng') \n",
    "mystery = mystery.filter(f.col('language_code')=='eng')"
   ]
  },
  {
   "cell_type": "code",
   "execution_count": 32,
   "metadata": {
    "collapsed": true,
    "jupyter": {
     "outputs_hidden": true
    }
   },
   "outputs": [],
   "source": [
    "#take a sample of the dataframes\n",
    "children_sample = children.sample(False,0.06,40)\n",
    "history_sample = history.sample(False, 0.05,40)\n",
    "mystery_sample = mystery.sample(False, 0.05,40)"
   ]
  },
  {
   "cell_type": "code",
   "execution_count": 33,
   "metadata": {
    "collapsed": true,
    "jupyter": {
     "outputs_hidden": true
    }
   },
   "outputs": [],
   "source": [
    "#arrange the order of the columns for each dataframe to allow for union\n",
    "children_sample.createOrReplaceTempView(\"children_table\")\n",
    "\n",
    "children = spark.sql(\"select book_id,title,isbn,isbn13,title_without_series,review_text,review_id,\\\n",
    "rating,user_id,authors,average_rating,country_code,edition_information,n_comments,n_votes,language_code,num_pages,\\\n",
    "publication_day,publication_month,publication_year,publisher,ratings_count,series,similar_books,text_reviews_count,\\\n",
    "work_id, genre from children_table\")\n",
    "\n",
    "history_sample.createOrReplaceTempView(\"history_table\")\n",
    "\n",
    "history = spark.sql(\"select book_id,title,isbn,isbn13,title_without_series,review_text,review_id,\\\n",
    "rating,user_id,authors,average_rating,country_code,edition_information,n_comments,n_votes,language_code,num_pages,\\\n",
    "publication_day,publication_month,publication_year,publisher,ratings_count,series,similar_books,text_reviews_count,\\\n",
    "work_id, genre from history_table\")\n",
    "\n",
    "mystery_sample.createOrReplaceTempView(\"mystory_table\")\n",
    "\n",
    "mystery = spark.sql(\"select book_id,title,isbn,isbn13,title_without_series,review_text,review_id,\\\n",
    "rating,user_id,authors,average_rating,country_code,edition_information,n_comments,n_votes,language_code,num_pages,\\\n",
    "publication_day,publication_month,publication_year,publisher,ratings_count,series,similar_books,text_reviews_count,\\\n",
    "work_id, genre from mystory_table\")\n"
   ]
  },
  {
   "cell_type": "code",
   "execution_count": 34,
   "metadata": {
    "collapsed": true,
    "jupyter": {
     "outputs_hidden": true
    }
   },
   "outputs": [],
   "source": [
    "#concatenate the sample dataframes\n",
    "def unionAll(*dfs):\n",
    "    ''' Input-spark dataframes\n",
    "        Output- union of dataframes'''\n",
    "    return reduce(DataFrame.unionAll, dfs)\n",
    "\n",
    "complete_df = unionAll(children,history,mystery)"
   ]
  },
  {
   "cell_type": "code",
   "execution_count": 35,
   "metadata": {
    "collapsed": true,
    "jupyter": {
     "outputs_hidden": true
    }
   },
   "outputs": [],
   "source": [
    "# convert spark dataframe into a pandas dataframe\n",
    "df = complete_df.toPandas()"
   ]
  },
  {
   "cell_type": "code",
   "execution_count": 36,
   "metadata": {
    "collapsed": true,
    "jupyter": {
     "outputs_hidden": true
    }
   },
   "outputs": [],
   "source": [
    "#save our data in a csv file\n",
    "df.to_csv('../data/goodreads.csv', index = False)"
   ]
  },
  {
   "cell_type": "markdown",
   "metadata": {},
   "source": [
    "## Reading the dataframe from csv file"
   ]
  },
  {
   "cell_type": "code",
   "execution_count": 37,
   "metadata": {
    "collapsed": true,
    "jupyter": {
     "outputs_hidden": true
    }
   },
   "outputs": [],
   "source": [
    "#data manipulation\n",
    "import pandas as pd\n",
    "import numpy as np\n",
    "\n",
    "#display entire output of a cell\n",
    "from IPython.core.interactiveshell import InteractiveShell\n",
    "InteractiveShell.ast_node_interactivity = \"all\"\n",
    "\n",
    "#hide warnings from jupyter notebook\n",
    "import warnings\n",
    "warnings.filterwarnings('ignore')\n",
    "\n",
    "#display all columns\n",
    "pd.set_option(\"display.max.columns\", None)\n",
    "\n",
    "#visualization\n",
    "%matplotlib inline\n",
    "import matplotlib.pyplot as plt\n",
    "import seaborn as sns\n",
    "\n",
    "# gender guesser\n",
    "from gender_detector import gender_detector as gd\n",
    "#detector = gd.GenderDetector('us')\n",
    "\n",
    "# for word cloud\n",
    "import re\n",
    "import string\n",
    "\n",
    "# for stats\n",
    "import scipy.stats"
   ]
  },
  {
   "cell_type": "code",
   "execution_count": 38,
   "metadata": {
    "collapsed": true,
    "jupyter": {
     "outputs_hidden": true
    }
   },
   "outputs": [],
   "source": [
    "goodreads = pd.read_csv('../data/goodreads.csv')"
   ]
  },
  {
   "cell_type": "code",
   "execution_count": 39,
   "metadata": {
    "collapsed": true,
    "jupyter": {
     "outputs_hidden": true
    }
   },
   "outputs": [],
   "source": [
    "# drop authors column. We were able to locate a clean json file that contains authors infomation\n",
    "goodreads.drop('authors',1,inplace=True)"
   ]
  },
  {
   "cell_type": "code",
   "execution_count": 41,
   "metadata": {},
   "outputs": [
    {
     "data": {
      "text/plain": [
       "129797"
      ]
     },
     "execution_count": 41,
     "metadata": {},
     "output_type": "execute_result"
    }
   ],
   "source": [
    "len(goodreads)"
   ]
  },
  {
   "cell_type": "markdown",
   "metadata": {},
   "source": [
    "#### This section has been commented out once the csv files have been created"
   ]
  },
  {
   "cell_type": "code",
   "execution_count": 8,
   "metadata": {
    "collapsed": true,
    "jupyter": {
     "outputs_hidden": true
    }
   },
   "outputs": [],
   "source": [
    "#Creating csv files for each genre\n",
    "#df_c = goodreads.loc[goodreads['genre'] == 'children']\n",
    "#df_h = goodreads.loc[goodreads['genre'] == 'history']\n",
    "#df_m = goodreads.loc[goodreads['genre'] == 'mystery']\n",
    "\n",
    "#converting them to csv files\n",
    "#df_c.to_csv('../data/children_books_reviews.csv')\n",
    "#df_h.to_csv('../data/history_books_reviews.csv')\n",
    "#df_m.to_csv('../data/mystery_books_reviews.csv')"
   ]
  },
  {
   "cell_type": "markdown",
   "metadata": {},
   "source": [
    "## Explore dataset"
   ]
  },
  {
   "cell_type": "code",
   "execution_count": 45,
   "metadata": {},
   "outputs": [
    {
     "data": {
      "text/html": [
       "<div>\n",
       "<style scoped>\n",
       "    .dataframe tbody tr th:only-of-type {\n",
       "        vertical-align: middle;\n",
       "    }\n",
       "\n",
       "    .dataframe tbody tr th {\n",
       "        vertical-align: top;\n",
       "    }\n",
       "\n",
       "    .dataframe thead th {\n",
       "        text-align: right;\n",
       "    }\n",
       "</style>\n",
       "<table border=\"1\" class=\"dataframe\">\n",
       "  <thead>\n",
       "    <tr style=\"text-align: right;\">\n",
       "      <th></th>\n",
       "      <th>book_id</th>\n",
       "      <th>title</th>\n",
       "      <th>isbn</th>\n",
       "      <th>isbn13</th>\n",
       "      <th>title_without_series</th>\n",
       "      <th>review_text</th>\n",
       "      <th>review_id</th>\n",
       "      <th>rating</th>\n",
       "      <th>user_id</th>\n",
       "      <th>average_rating</th>\n",
       "      <th>country_code</th>\n",
       "      <th>edition_information</th>\n",
       "      <th>n_comments</th>\n",
       "      <th>n_votes</th>\n",
       "      <th>language_code</th>\n",
       "      <th>num_pages</th>\n",
       "      <th>publication_day</th>\n",
       "      <th>publication_month</th>\n",
       "      <th>publication_year</th>\n",
       "      <th>publisher</th>\n",
       "      <th>ratings_count</th>\n",
       "      <th>series</th>\n",
       "      <th>similar_books</th>\n",
       "      <th>text_reviews_count</th>\n",
       "      <th>work_id</th>\n",
       "      <th>genre</th>\n",
       "    </tr>\n",
       "  </thead>\n",
       "  <tbody>\n",
       "    <tr>\n",
       "      <th>0</th>\n",
       "      <td>11346143</td>\n",
       "      <td>Strange Case Of Origami Yoda</td>\n",
       "      <td>0810996502</td>\n",
       "      <td>9780810996502</td>\n",
       "      <td>Strange Case Of Origami Yoda</td>\n",
       "      <td>Quirky and silly will save it for my son when ...</td>\n",
       "      <td>a95478e83fb0549916181dec2e6c02de</td>\n",
       "      <td>3</td>\n",
       "      <td>ae6c9ceec7a41254191ffdb8852bd031</td>\n",
       "      <td>3.90</td>\n",
       "      <td>US</td>\n",
       "      <td>NaN</td>\n",
       "      <td>0</td>\n",
       "      <td>0</td>\n",
       "      <td>eng</td>\n",
       "      <td>154.0</td>\n",
       "      <td>NaN</td>\n",
       "      <td>NaN</td>\n",
       "      <td>NaN</td>\n",
       "      <td>NaN</td>\n",
       "      <td>143</td>\n",
       "      <td>['257006']</td>\n",
       "      <td>['7172060', '6330886', '9564947', '7739868', '...</td>\n",
       "      <td>29</td>\n",
       "      <td>7415356</td>\n",
       "      <td>children</td>\n",
       "    </tr>\n",
       "    <tr>\n",
       "      <th>1</th>\n",
       "      <td>12354883</td>\n",
       "      <td>Shadow the Sheep-dog</td>\n",
       "      <td>NaN</td>\n",
       "      <td>NaN</td>\n",
       "      <td>Shadow the Sheep-dog</td>\n",
       "      <td>I read this as a kid and enjoyed it and now ha...</td>\n",
       "      <td>d348df0f30853c95f16bf5f292e42bb9</td>\n",
       "      <td>3</td>\n",
       "      <td>1fee0f40606726eb46e30612e6dd8485</td>\n",
       "      <td>4.32</td>\n",
       "      <td>US</td>\n",
       "      <td>NaN</td>\n",
       "      <td>0</td>\n",
       "      <td>0</td>\n",
       "      <td>eng</td>\n",
       "      <td>188.0</td>\n",
       "      <td>NaN</td>\n",
       "      <td>NaN</td>\n",
       "      <td>1948.0</td>\n",
       "      <td>Angus and Robertson</td>\n",
       "      <td>10</td>\n",
       "      <td>[]</td>\n",
       "      <td>['794739', '2740021', '885350', '31964', '2220...</td>\n",
       "      <td>2</td>\n",
       "      <td>1433595</td>\n",
       "      <td>children</td>\n",
       "    </tr>\n",
       "    <tr>\n",
       "      <th>2</th>\n",
       "      <td>12734774</td>\n",
       "      <td>Mikolay and Julia Meet the Fairies (Mikolay an...</td>\n",
       "      <td>NaN</td>\n",
       "      <td>NaN</td>\n",
       "      <td>Mikolay and Julia Meet the Fairies (Mikolay an...</td>\n",
       "      <td>What a delightful children's story. I can't wa...</td>\n",
       "      <td>3c550b2365eb869d57d81236f4cfbf27</td>\n",
       "      <td>5</td>\n",
       "      <td>7f778517ad88c4feed6183c54b6403e5</td>\n",
       "      <td>4.65</td>\n",
       "      <td>US</td>\n",
       "      <td>NaN</td>\n",
       "      <td>0</td>\n",
       "      <td>1</td>\n",
       "      <td>eng</td>\n",
       "      <td>38.0</td>\n",
       "      <td>NaN</td>\n",
       "      <td>9.0</td>\n",
       "      <td>2010.0</td>\n",
       "      <td>Mayan Books</td>\n",
       "      <td>24</td>\n",
       "      <td>['305783']</td>\n",
       "      <td>[]</td>\n",
       "      <td>10</td>\n",
       "      <td>17872488</td>\n",
       "      <td>children</td>\n",
       "    </tr>\n",
       "    <tr>\n",
       "      <th>3</th>\n",
       "      <td>130196</td>\n",
       "      <td>The Trumpet of the Swan</td>\n",
       "      <td>0590406191</td>\n",
       "      <td>9780590406192</td>\n",
       "      <td>The Trumpet of the Swan</td>\n",
       "      <td>Even as an adult, I enjoy some children's lite...</td>\n",
       "      <td>87379d304d5d38d555e9a04b8eafe74a</td>\n",
       "      <td>3</td>\n",
       "      <td>1fa3b5759854065c9d1e1048f38d2507</td>\n",
       "      <td>4.06</td>\n",
       "      <td>US</td>\n",
       "      <td>NaN</td>\n",
       "      <td>0</td>\n",
       "      <td>0</td>\n",
       "      <td>eng</td>\n",
       "      <td>210.0</td>\n",
       "      <td>NaN</td>\n",
       "      <td>NaN</td>\n",
       "      <td>1970.0</td>\n",
       "      <td>NaN</td>\n",
       "      <td>280</td>\n",
       "      <td>[]</td>\n",
       "      <td>['89546', '24384', '827430', '240815', '426206...</td>\n",
       "      <td>43</td>\n",
       "      <td>1835542</td>\n",
       "      <td>children</td>\n",
       "    </tr>\n",
       "    <tr>\n",
       "      <th>4</th>\n",
       "      <td>13790759</td>\n",
       "      <td>Sarah Gives Thanks: How Thanksgiving Became a ...</td>\n",
       "      <td>080757239X</td>\n",
       "      <td>9780807572399</td>\n",
       "      <td>Sarah Gives Thanks: How Thanksgiving Became a ...</td>\n",
       "      <td>More like a 3.5'er</td>\n",
       "      <td>d2acf777a2748ec4a481de94e17a1666</td>\n",
       "      <td>3</td>\n",
       "      <td>4b3548b067eaea2a7eb23eb45da9d375</td>\n",
       "      <td>4.08</td>\n",
       "      <td>US</td>\n",
       "      <td>NaN</td>\n",
       "      <td>0</td>\n",
       "      <td>0</td>\n",
       "      <td>eng</td>\n",
       "      <td>32.0</td>\n",
       "      <td>1.0</td>\n",
       "      <td>9.0</td>\n",
       "      <td>2012.0</td>\n",
       "      <td>Albert Whitman  Company</td>\n",
       "      <td>184</td>\n",
       "      <td>[]</td>\n",
       "      <td>['13330625', '9885866', '13414838', '12763989'...</td>\n",
       "      <td>49</td>\n",
       "      <td>19424630</td>\n",
       "      <td>children</td>\n",
       "    </tr>\n",
       "  </tbody>\n",
       "</table>\n",
       "</div>"
      ],
      "text/plain": [
       "    book_id                                              title        isbn  \\\n",
       "0  11346143                       Strange Case Of Origami Yoda  0810996502   \n",
       "1  12354883                               Shadow the Sheep-dog         NaN   \n",
       "2  12734774  Mikolay and Julia Meet the Fairies (Mikolay an...         NaN   \n",
       "3    130196                            The Trumpet of the Swan  0590406191   \n",
       "4  13790759  Sarah Gives Thanks: How Thanksgiving Became a ...  080757239X   \n",
       "\n",
       "          isbn13                               title_without_series  \\\n",
       "0  9780810996502                       Strange Case Of Origami Yoda   \n",
       "1            NaN                               Shadow the Sheep-dog   \n",
       "2            NaN  Mikolay and Julia Meet the Fairies (Mikolay an...   \n",
       "3  9780590406192                            The Trumpet of the Swan   \n",
       "4  9780807572399  Sarah Gives Thanks: How Thanksgiving Became a ...   \n",
       "\n",
       "                                         review_text  \\\n",
       "0  Quirky and silly will save it for my son when ...   \n",
       "1  I read this as a kid and enjoyed it and now ha...   \n",
       "2  What a delightful children's story. I can't wa...   \n",
       "3  Even as an adult, I enjoy some children's lite...   \n",
       "4                                 More like a 3.5'er   \n",
       "\n",
       "                          review_id  rating                           user_id  \\\n",
       "0  a95478e83fb0549916181dec2e6c02de       3  ae6c9ceec7a41254191ffdb8852bd031   \n",
       "1  d348df0f30853c95f16bf5f292e42bb9       3  1fee0f40606726eb46e30612e6dd8485   \n",
       "2  3c550b2365eb869d57d81236f4cfbf27       5  7f778517ad88c4feed6183c54b6403e5   \n",
       "3  87379d304d5d38d555e9a04b8eafe74a       3  1fa3b5759854065c9d1e1048f38d2507   \n",
       "4  d2acf777a2748ec4a481de94e17a1666       3  4b3548b067eaea2a7eb23eb45da9d375   \n",
       "\n",
       "   average_rating country_code edition_information  n_comments  n_votes  \\\n",
       "0            3.90           US                 NaN           0        0   \n",
       "1            4.32           US                 NaN           0        0   \n",
       "2            4.65           US                 NaN           0        1   \n",
       "3            4.06           US                 NaN           0        0   \n",
       "4            4.08           US                 NaN           0        0   \n",
       "\n",
       "  language_code  num_pages  publication_day  publication_month  \\\n",
       "0           eng      154.0              NaN                NaN   \n",
       "1           eng      188.0              NaN                NaN   \n",
       "2           eng       38.0              NaN                9.0   \n",
       "3           eng      210.0              NaN                NaN   \n",
       "4           eng       32.0              1.0                9.0   \n",
       "\n",
       "   publication_year                publisher  ratings_count      series  \\\n",
       "0               NaN                      NaN            143  ['257006']   \n",
       "1            1948.0      Angus and Robertson             10          []   \n",
       "2            2010.0              Mayan Books             24  ['305783']   \n",
       "3            1970.0                      NaN            280          []   \n",
       "4            2012.0  Albert Whitman  Company            184          []   \n",
       "\n",
       "                                       similar_books  text_reviews_count  \\\n",
       "0  ['7172060', '6330886', '9564947', '7739868', '...                  29   \n",
       "1  ['794739', '2740021', '885350', '31964', '2220...                   2   \n",
       "2                                                 []                  10   \n",
       "3  ['89546', '24384', '827430', '240815', '426206...                  43   \n",
       "4  ['13330625', '9885866', '13414838', '12763989'...                  49   \n",
       "\n",
       "    work_id     genre  \n",
       "0   7415356  children  \n",
       "1   1433595  children  \n",
       "2  17872488  children  \n",
       "3   1835542  children  \n",
       "4  19424630  children  "
      ]
     },
     "execution_count": 45,
     "metadata": {},
     "output_type": "execute_result"
    }
   ],
   "source": [
    "goodreads.head()"
   ]
  },
  {
   "cell_type": "code",
   "execution_count": 46,
   "metadata": {
    "scrolled": true
   },
   "outputs": [
    {
     "data": {
      "text/plain": [
       "(129797, 26)"
      ]
     },
     "execution_count": 46,
     "metadata": {},
     "output_type": "execute_result"
    },
    {
     "data": {
      "text/html": [
       "<div>\n",
       "<style scoped>\n",
       "    .dataframe tbody tr th:only-of-type {\n",
       "        vertical-align: middle;\n",
       "    }\n",
       "\n",
       "    .dataframe tbody tr th {\n",
       "        vertical-align: top;\n",
       "    }\n",
       "\n",
       "    .dataframe thead th {\n",
       "        text-align: right;\n",
       "    }\n",
       "</style>\n",
       "<table border=\"1\" class=\"dataframe\">\n",
       "  <thead>\n",
       "    <tr style=\"text-align: right;\">\n",
       "      <th></th>\n",
       "      <th>book_id</th>\n",
       "      <th>title</th>\n",
       "      <th>isbn</th>\n",
       "      <th>isbn13</th>\n",
       "      <th>title_without_series</th>\n",
       "      <th>review_text</th>\n",
       "      <th>review_id</th>\n",
       "      <th>rating</th>\n",
       "      <th>user_id</th>\n",
       "      <th>average_rating</th>\n",
       "      <th>country_code</th>\n",
       "      <th>edition_information</th>\n",
       "      <th>n_comments</th>\n",
       "      <th>n_votes</th>\n",
       "      <th>language_code</th>\n",
       "      <th>num_pages</th>\n",
       "      <th>publication_day</th>\n",
       "      <th>publication_month</th>\n",
       "      <th>publication_year</th>\n",
       "      <th>publisher</th>\n",
       "      <th>ratings_count</th>\n",
       "      <th>series</th>\n",
       "      <th>similar_books</th>\n",
       "      <th>text_reviews_count</th>\n",
       "      <th>work_id</th>\n",
       "      <th>genre</th>\n",
       "    </tr>\n",
       "  </thead>\n",
       "  <tbody>\n",
       "    <tr>\n",
       "      <th>0</th>\n",
       "      <td>11346143</td>\n",
       "      <td>Strange Case Of Origami Yoda</td>\n",
       "      <td>0810996502</td>\n",
       "      <td>9780810996502</td>\n",
       "      <td>Strange Case Of Origami Yoda</td>\n",
       "      <td>Quirky and silly will save it for my son when ...</td>\n",
       "      <td>a95478e83fb0549916181dec2e6c02de</td>\n",
       "      <td>3</td>\n",
       "      <td>ae6c9ceec7a41254191ffdb8852bd031</td>\n",
       "      <td>3.90</td>\n",
       "      <td>US</td>\n",
       "      <td>NaN</td>\n",
       "      <td>0</td>\n",
       "      <td>0</td>\n",
       "      <td>eng</td>\n",
       "      <td>154.0</td>\n",
       "      <td>NaN</td>\n",
       "      <td>NaN</td>\n",
       "      <td>NaN</td>\n",
       "      <td>NaN</td>\n",
       "      <td>143</td>\n",
       "      <td>['257006']</td>\n",
       "      <td>['7172060', '6330886', '9564947', '7739868', '...</td>\n",
       "      <td>29</td>\n",
       "      <td>7415356</td>\n",
       "      <td>children</td>\n",
       "    </tr>\n",
       "    <tr>\n",
       "      <th>1</th>\n",
       "      <td>12354883</td>\n",
       "      <td>Shadow the Sheep-dog</td>\n",
       "      <td>NaN</td>\n",
       "      <td>NaN</td>\n",
       "      <td>Shadow the Sheep-dog</td>\n",
       "      <td>I read this as a kid and enjoyed it and now ha...</td>\n",
       "      <td>d348df0f30853c95f16bf5f292e42bb9</td>\n",
       "      <td>3</td>\n",
       "      <td>1fee0f40606726eb46e30612e6dd8485</td>\n",
       "      <td>4.32</td>\n",
       "      <td>US</td>\n",
       "      <td>NaN</td>\n",
       "      <td>0</td>\n",
       "      <td>0</td>\n",
       "      <td>eng</td>\n",
       "      <td>188.0</td>\n",
       "      <td>NaN</td>\n",
       "      <td>NaN</td>\n",
       "      <td>1948.0</td>\n",
       "      <td>Angus and Robertson</td>\n",
       "      <td>10</td>\n",
       "      <td>[]</td>\n",
       "      <td>['794739', '2740021', '885350', '31964', '2220...</td>\n",
       "      <td>2</td>\n",
       "      <td>1433595</td>\n",
       "      <td>children</td>\n",
       "    </tr>\n",
       "    <tr>\n",
       "      <th>2</th>\n",
       "      <td>12734774</td>\n",
       "      <td>Mikolay and Julia Meet the Fairies (Mikolay an...</td>\n",
       "      <td>NaN</td>\n",
       "      <td>NaN</td>\n",
       "      <td>Mikolay and Julia Meet the Fairies (Mikolay an...</td>\n",
       "      <td>What a delightful children's story. I can't wa...</td>\n",
       "      <td>3c550b2365eb869d57d81236f4cfbf27</td>\n",
       "      <td>5</td>\n",
       "      <td>7f778517ad88c4feed6183c54b6403e5</td>\n",
       "      <td>4.65</td>\n",
       "      <td>US</td>\n",
       "      <td>NaN</td>\n",
       "      <td>0</td>\n",
       "      <td>1</td>\n",
       "      <td>eng</td>\n",
       "      <td>38.0</td>\n",
       "      <td>NaN</td>\n",
       "      <td>9.0</td>\n",
       "      <td>2010.0</td>\n",
       "      <td>Mayan Books</td>\n",
       "      <td>24</td>\n",
       "      <td>['305783']</td>\n",
       "      <td>[]</td>\n",
       "      <td>10</td>\n",
       "      <td>17872488</td>\n",
       "      <td>children</td>\n",
       "    </tr>\n",
       "    <tr>\n",
       "      <th>3</th>\n",
       "      <td>130196</td>\n",
       "      <td>The Trumpet of the Swan</td>\n",
       "      <td>0590406191</td>\n",
       "      <td>9780590406192</td>\n",
       "      <td>The Trumpet of the Swan</td>\n",
       "      <td>Even as an adult, I enjoy some children's lite...</td>\n",
       "      <td>87379d304d5d38d555e9a04b8eafe74a</td>\n",
       "      <td>3</td>\n",
       "      <td>1fa3b5759854065c9d1e1048f38d2507</td>\n",
       "      <td>4.06</td>\n",
       "      <td>US</td>\n",
       "      <td>NaN</td>\n",
       "      <td>0</td>\n",
       "      <td>0</td>\n",
       "      <td>eng</td>\n",
       "      <td>210.0</td>\n",
       "      <td>NaN</td>\n",
       "      <td>NaN</td>\n",
       "      <td>1970.0</td>\n",
       "      <td>NaN</td>\n",
       "      <td>280</td>\n",
       "      <td>[]</td>\n",
       "      <td>['89546', '24384', '827430', '240815', '426206...</td>\n",
       "      <td>43</td>\n",
       "      <td>1835542</td>\n",
       "      <td>children</td>\n",
       "    </tr>\n",
       "    <tr>\n",
       "      <th>4</th>\n",
       "      <td>13790759</td>\n",
       "      <td>Sarah Gives Thanks: How Thanksgiving Became a ...</td>\n",
       "      <td>080757239X</td>\n",
       "      <td>9780807572399</td>\n",
       "      <td>Sarah Gives Thanks: How Thanksgiving Became a ...</td>\n",
       "      <td>More like a 3.5'er</td>\n",
       "      <td>d2acf777a2748ec4a481de94e17a1666</td>\n",
       "      <td>3</td>\n",
       "      <td>4b3548b067eaea2a7eb23eb45da9d375</td>\n",
       "      <td>4.08</td>\n",
       "      <td>US</td>\n",
       "      <td>NaN</td>\n",
       "      <td>0</td>\n",
       "      <td>0</td>\n",
       "      <td>eng</td>\n",
       "      <td>32.0</td>\n",
       "      <td>1.0</td>\n",
       "      <td>9.0</td>\n",
       "      <td>2012.0</td>\n",
       "      <td>Albert Whitman  Company</td>\n",
       "      <td>184</td>\n",
       "      <td>[]</td>\n",
       "      <td>['13330625', '9885866', '13414838', '12763989'...</td>\n",
       "      <td>49</td>\n",
       "      <td>19424630</td>\n",
       "      <td>children</td>\n",
       "    </tr>\n",
       "  </tbody>\n",
       "</table>\n",
       "</div>"
      ],
      "text/plain": [
       "    book_id                                              title        isbn  \\\n",
       "0  11346143                       Strange Case Of Origami Yoda  0810996502   \n",
       "1  12354883                               Shadow the Sheep-dog         NaN   \n",
       "2  12734774  Mikolay and Julia Meet the Fairies (Mikolay an...         NaN   \n",
       "3    130196                            The Trumpet of the Swan  0590406191   \n",
       "4  13790759  Sarah Gives Thanks: How Thanksgiving Became a ...  080757239X   \n",
       "\n",
       "          isbn13                               title_without_series  \\\n",
       "0  9780810996502                       Strange Case Of Origami Yoda   \n",
       "1            NaN                               Shadow the Sheep-dog   \n",
       "2            NaN  Mikolay and Julia Meet the Fairies (Mikolay an...   \n",
       "3  9780590406192                            The Trumpet of the Swan   \n",
       "4  9780807572399  Sarah Gives Thanks: How Thanksgiving Became a ...   \n",
       "\n",
       "                                         review_text  \\\n",
       "0  Quirky and silly will save it for my son when ...   \n",
       "1  I read this as a kid and enjoyed it and now ha...   \n",
       "2  What a delightful children's story. I can't wa...   \n",
       "3  Even as an adult, I enjoy some children's lite...   \n",
       "4                                 More like a 3.5'er   \n",
       "\n",
       "                          review_id  rating                           user_id  \\\n",
       "0  a95478e83fb0549916181dec2e6c02de       3  ae6c9ceec7a41254191ffdb8852bd031   \n",
       "1  d348df0f30853c95f16bf5f292e42bb9       3  1fee0f40606726eb46e30612e6dd8485   \n",
       "2  3c550b2365eb869d57d81236f4cfbf27       5  7f778517ad88c4feed6183c54b6403e5   \n",
       "3  87379d304d5d38d555e9a04b8eafe74a       3  1fa3b5759854065c9d1e1048f38d2507   \n",
       "4  d2acf777a2748ec4a481de94e17a1666       3  4b3548b067eaea2a7eb23eb45da9d375   \n",
       "\n",
       "   average_rating country_code edition_information  n_comments  n_votes  \\\n",
       "0            3.90           US                 NaN           0        0   \n",
       "1            4.32           US                 NaN           0        0   \n",
       "2            4.65           US                 NaN           0        1   \n",
       "3            4.06           US                 NaN           0        0   \n",
       "4            4.08           US                 NaN           0        0   \n",
       "\n",
       "  language_code  num_pages  publication_day  publication_month  \\\n",
       "0           eng      154.0              NaN                NaN   \n",
       "1           eng      188.0              NaN                NaN   \n",
       "2           eng       38.0              NaN                9.0   \n",
       "3           eng      210.0              NaN                NaN   \n",
       "4           eng       32.0              1.0                9.0   \n",
       "\n",
       "   publication_year                publisher  ratings_count      series  \\\n",
       "0               NaN                      NaN            143  ['257006']   \n",
       "1            1948.0      Angus and Robertson             10          []   \n",
       "2            2010.0              Mayan Books             24  ['305783']   \n",
       "3            1970.0                      NaN            280          []   \n",
       "4            2012.0  Albert Whitman  Company            184          []   \n",
       "\n",
       "                                       similar_books  text_reviews_count  \\\n",
       "0  ['7172060', '6330886', '9564947', '7739868', '...                  29   \n",
       "1  ['794739', '2740021', '885350', '31964', '2220...                   2   \n",
       "2                                                 []                  10   \n",
       "3  ['89546', '24384', '827430', '240815', '426206...                  43   \n",
       "4  ['13330625', '9885866', '13414838', '12763989'...                  49   \n",
       "\n",
       "    work_id     genre  \n",
       "0   7415356  children  \n",
       "1   1433595  children  \n",
       "2  17872488  children  \n",
       "3   1835542  children  \n",
       "4  19424630  children  "
      ]
     },
     "execution_count": 46,
     "metadata": {},
     "output_type": "execute_result"
    },
    {
     "name": "stdout",
     "output_type": "stream",
     "text": [
      "<class 'pandas.core.frame.DataFrame'>\n",
      "RangeIndex: 129797 entries, 0 to 129796\n",
      "Data columns (total 26 columns):\n",
      " #   Column                Non-Null Count   Dtype  \n",
      "---  ------                --------------   -----  \n",
      " 0   book_id               129797 non-null  int64  \n",
      " 1   title                 129797 non-null  object \n",
      " 2   isbn                  110349 non-null  object \n",
      " 3   isbn13                113385 non-null  object \n",
      " 4   title_without_series  129797 non-null  object \n",
      " 5   review_text           129782 non-null  object \n",
      " 6   review_id             129797 non-null  object \n",
      " 7   rating                129797 non-null  int64  \n",
      " 8   user_id               129797 non-null  object \n",
      " 9   average_rating        129797 non-null  float64\n",
      " 10  country_code          129797 non-null  object \n",
      " 11  edition_information   13595 non-null   object \n",
      " 12  n_comments            129797 non-null  int64  \n",
      " 13  n_votes               129797 non-null  int64  \n",
      " 14  language_code         129797 non-null  object \n",
      " 15  num_pages             117618 non-null  float64\n",
      " 16  publication_day       102564 non-null  float64\n",
      " 17  publication_month     105535 non-null  float64\n",
      " 18  publication_year      111415 non-null  float64\n",
      " 19  publisher             110187 non-null  object \n",
      " 20  ratings_count         129797 non-null  int64  \n",
      " 21  series                129797 non-null  object \n",
      " 22  similar_books         129797 non-null  object \n",
      " 23  text_reviews_count    129797 non-null  int64  \n",
      " 24  work_id               129797 non-null  int64  \n",
      " 25  genre                 129797 non-null  object \n",
      "dtypes: float64(5), int64(7), object(14)\n",
      "memory usage: 25.7+ MB\n"
     ]
    },
    {
     "data": {
      "text/html": [
       "<div>\n",
       "<style scoped>\n",
       "    .dataframe tbody tr th:only-of-type {\n",
       "        vertical-align: middle;\n",
       "    }\n",
       "\n",
       "    .dataframe tbody tr th {\n",
       "        vertical-align: top;\n",
       "    }\n",
       "\n",
       "    .dataframe thead th {\n",
       "        text-align: right;\n",
       "    }\n",
       "</style>\n",
       "<table border=\"1\" class=\"dataframe\">\n",
       "  <thead>\n",
       "    <tr style=\"text-align: right;\">\n",
       "      <th></th>\n",
       "      <th>title</th>\n",
       "      <th>isbn</th>\n",
       "      <th>isbn13</th>\n",
       "      <th>title_without_series</th>\n",
       "      <th>review_text</th>\n",
       "      <th>review_id</th>\n",
       "      <th>user_id</th>\n",
       "      <th>country_code</th>\n",
       "      <th>edition_information</th>\n",
       "      <th>language_code</th>\n",
       "      <th>publisher</th>\n",
       "      <th>series</th>\n",
       "      <th>similar_books</th>\n",
       "      <th>genre</th>\n",
       "    </tr>\n",
       "  </thead>\n",
       "  <tbody>\n",
       "    <tr>\n",
       "      <th>count</th>\n",
       "      <td>129797</td>\n",
       "      <td>110349</td>\n",
       "      <td>113385</td>\n",
       "      <td>129797</td>\n",
       "      <td>129782</td>\n",
       "      <td>129797</td>\n",
       "      <td>129797</td>\n",
       "      <td>129797</td>\n",
       "      <td>13595</td>\n",
       "      <td>129797</td>\n",
       "      <td>110187</td>\n",
       "      <td>129797</td>\n",
       "      <td>129797</td>\n",
       "      <td>129797</td>\n",
       "    </tr>\n",
       "    <tr>\n",
       "      <th>unique</th>\n",
       "      <td>37529</td>\n",
       "      <td>31829</td>\n",
       "      <td>33793</td>\n",
       "      <td>37529</td>\n",
       "      <td>56106</td>\n",
       "      <td>56844</td>\n",
       "      <td>31477</td>\n",
       "      <td>1</td>\n",
       "      <td>1242</td>\n",
       "      <td>1</td>\n",
       "      <td>7222</td>\n",
       "      <td>17966</td>\n",
       "      <td>27156</td>\n",
       "      <td>3</td>\n",
       "    </tr>\n",
       "    <tr>\n",
       "      <th>top</th>\n",
       "      <td>The Girl on the Train</td>\n",
       "      <td>1594633665</td>\n",
       "      <td>9781594633669</td>\n",
       "      <td>The Girl on the Train</td>\n",
       "      <td>Great pace. Nothing I haven't ready or seen be...</td>\n",
       "      <td>0555e260601f31b99e735da9144324b3</td>\n",
       "      <td>37e01e4d9600745d939c44e4f0823a4b</td>\n",
       "      <td>US</td>\n",
       "      <td>First Edition</td>\n",
       "      <td>eng</td>\n",
       "      <td>Scribner</td>\n",
       "      <td>[]</td>\n",
       "      <td>[]</td>\n",
       "      <td>mystery</td>\n",
       "    </tr>\n",
       "    <tr>\n",
       "      <th>freq</th>\n",
       "      <td>790</td>\n",
       "      <td>685</td>\n",
       "      <td>685</td>\n",
       "      <td>790</td>\n",
       "      <td>685</td>\n",
       "      <td>685</td>\n",
       "      <td>685</td>\n",
       "      <td>129797</td>\n",
       "      <td>1737</td>\n",
       "      <td>129797</td>\n",
       "      <td>2008</td>\n",
       "      <td>69299</td>\n",
       "      <td>14187</td>\n",
       "      <td>55289</td>\n",
       "    </tr>\n",
       "  </tbody>\n",
       "</table>\n",
       "</div>"
      ],
      "text/plain": [
       "                        title        isbn         isbn13  \\\n",
       "count                  129797      110349         113385   \n",
       "unique                  37529       31829          33793   \n",
       "top     The Girl on the Train  1594633665  9781594633669   \n",
       "freq                      790         685            685   \n",
       "\n",
       "         title_without_series  \\\n",
       "count                  129797   \n",
       "unique                  37529   \n",
       "top     The Girl on the Train   \n",
       "freq                      790   \n",
       "\n",
       "                                              review_text  \\\n",
       "count                                              129782   \n",
       "unique                                              56106   \n",
       "top     Great pace. Nothing I haven't ready or seen be...   \n",
       "freq                                                  685   \n",
       "\n",
       "                               review_id                           user_id  \\\n",
       "count                             129797                            129797   \n",
       "unique                             56844                             31477   \n",
       "top     0555e260601f31b99e735da9144324b3  37e01e4d9600745d939c44e4f0823a4b   \n",
       "freq                                 685                               685   \n",
       "\n",
       "       country_code edition_information language_code publisher  series  \\\n",
       "count        129797               13595        129797    110187  129797   \n",
       "unique            1                1242             1      7222   17966   \n",
       "top              US       First Edition           eng  Scribner      []   \n",
       "freq         129797                1737        129797      2008   69299   \n",
       "\n",
       "       similar_books    genre  \n",
       "count         129797   129797  \n",
       "unique         27156        3  \n",
       "top               []  mystery  \n",
       "freq           14187    55289  "
      ]
     },
     "execution_count": 46,
     "metadata": {},
     "output_type": "execute_result"
    }
   ],
   "source": [
    "#check dimentionality of our data\n",
    "goodreads.shape\n",
    "\n",
    "# check the first few rows\n",
    "goodreads.head()\n",
    "\n",
    "#examine data types\n",
    "goodreads.info()\n",
    "\n",
    "#basic statistics\n",
    "goodreads.describe(include=np.object)"
   ]
  }
 ],
 "metadata": {
  "kernelspec": {
   "display_name": "Python [default]",
   "language": "python",
   "name": "python3"
  },
  "language_info": {
   "codemirror_mode": {
    "name": "ipython",
    "version": 3
   },
   "file_extension": ".py",
   "mimetype": "text/x-python",
   "name": "python",
   "nbconvert_exporter": "python",
   "pygments_lexer": "ipython3",
   "version": "3.6.3"
  }
 },
 "nbformat": 4,
 "nbformat_minor": 4
}
